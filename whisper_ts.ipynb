{
 "cells": [
  {
   "cell_type": "code",
   "execution_count": null,
   "metadata": {},
   "outputs": [],
   "source": [
    "#load whisper model\n",
    "import stable_whisper\n",
    "model = stable_whisper.load_model(\"large-v3\")\n"
   ]
  },
  {
   "cell_type": "code",
   "execution_count": 2,
   "metadata": {},
   "outputs": [],
   "source": [
    "import numpy as np\n",
    "from moviepy.editor import VideoFileClip, ImageClip, CompositeVideoClip\n",
    "from PIL import ImageFont, Image, ImageDraw\n",
    "\n",
    "# 使用 PIL 創建包含字幕的圖像\n",
    "def make_text_image(txt, size=(1280, 720), fontsize=36, font=\"msyh.ttc\"):\n",
    "    \"\"\"\n",
    "    使用 PIL 創建包含字幕的圖像\n",
    "    \"\"\"\n",
    "    # 創建背景是透明的圖像\n",
    "    img = Image.new('RGBA', size, color=(0, 0, 0, 0))  # 設置透明背景\n",
    "    draw = ImageDraw.Draw(img)\n",
    "    \n",
    "    # 使用 TrueType 字型，大小可調\n",
    "    font = ImageFont.truetype(font, fontsize)\n",
    "    \n",
    "    # 設置文本顏色\n",
    "    text_color = (255, 255, 255)  # 白色\n",
    "    \n",
    "    # 計算文本邊界框大小（替代 textsize）\n",
    "    bbox = draw.textbbox((0, 0), txt, font=font)\n",
    "    text_width, text_height = bbox[2] - bbox[0], bbox[3] - bbox[1]\n",
    "    \n",
    "    # 設置文本位置（居中）\n",
    "    x = (size[0] - text_width) / 2\n",
    "    y = size[1] - text_height - 20  # 距離底部20像素\n",
    "    \n",
    "    # 寫入文本\n",
    "    draw.text((x, y), txt, font=font, fill=text_color)\n",
    "    \n",
    "    # 將 PIL 圖像轉換為 NumPy 數組，以便 MoviePy 使用\n",
    "    img_array = np.array(img)\n",
    "    \n",
    "    # 返回 ImageClip 對象，這樣 MoviePy 才能處理\n",
    "    return ImageClip(img_array).set_duration(3).set_position((\"center\", \"bottom\"))\n",
    "\n",
    "# 解析 TSV 文件\n",
    "def parse_tsv(tsv_path):\n",
    "    \"\"\"\n",
    "    解析 TSV 字幕文件，將其轉換為適用於影片的字幕 (start, end, text) 格式\n",
    "    \"\"\"\n",
    "    subtitles = []\n",
    "    with open(tsv_path, 'r', encoding='utf-8') as f:\n",
    "        lines = f.read().splitlines()\n",
    "        for line in lines:\n",
    "            parts = line.split('\\t')  # 分割行\n",
    "            if len(parts) >= 3:\n",
    "                start_time = int(parts[0]) / 1000.0  # 轉換毫秒為秒\n",
    "                end_time = int(parts[1]) / 1000.0  # 轉換毫秒為秒\n",
    "                text = parts[2]\n",
    "                subtitles.append(((start_time, end_time), text))\n",
    "    return subtitles\n",
    "\n",
    "# 轉換 chunks 進行字幕處理\n",
    "def create_subtitles_from_chunks(chunks):\n",
    "    subtitles = []\n",
    "    for chunk in chunks:\n",
    "        start_time, end_time = chunk[\"timestamp\"]\n",
    "        text = chunk[\"text\"]\n",
    "        subtitles.append(((start_time, end_time), text))\n",
    "    return subtitles\n",
    "\n",
    "def add_subtitles_to_video(video_path, tsv_path, output_path):\n",
    "    video = VideoFileClip(video_path)\n",
    "\n",
    "    # 解析 TSV 字幕文件\n",
    "    subtitles = parse_tsv(tsv_path)\n",
    "    \n",
    "    subtitle_clips = []\n",
    "    \n",
    "    for (start, end), text in subtitles:\n",
    "        subtitle_clip = make_text_image(text)\n",
    "        subtitle_clip = subtitle_clip.set_start(start).set_end(end)\n",
    "        subtitle_clips.append(subtitle_clip)\n",
    "    \n",
    "    # 使用 CompositeVideoClip 合成視頻和字幕\n",
    "    final_video = CompositeVideoClip([video] + subtitle_clips)\n",
    "    \n",
    "    # 將帶有字幕的影片寫出\n",
    "    final_video.write_videofile(output_path, codec=\"libx264\", fps=24)\n"
   ]
  },
  {
   "cell_type": "code",
   "execution_count": null,
   "metadata": {},
   "outputs": [],
   "source": [
    "song = r\"C:\\Users\\quant\\Desktop\\whisper\\lemon.mp4\"\n",
    "result = model.transcribe(song)\n",
    "result.to_tsv('audio.tsv')"
   ]
  },
  {
   "cell_type": "code",
   "execution_count": 5,
   "metadata": {},
   "outputs": [
    {
     "name": "stdout",
     "output_type": "stream",
     "text": [
      "8720\t14040\t夢想有多好\n",
      "\n",
      "14220\t20040\t我仍然夢見你\n",
      "\n",
      "20440\t25180\t回來找一個被遺忘的人\n",
      "\n",
      "25720\t29920\t一個舊的記憶\n",
      "\n",
      "30420\t31320\t支付\n",
      "\n",
      "33390\t39260\t很高興回來\n",
      "\n",
      "39340\t44720\t終於你告訴我\n",
      "\n",
      "45100\t50320\t即使是黑暗的過去也沒有說\n",
      "\n",
      "50480\t55820\t如果您不這樣做，永遠天黑\n",
      "\n",
      "56080\t66800\t我知道我不會再受傷了\n",
      "\n",
      "67060\t72660\t即使是那天的悲傷，甚至那天的痛苦\n",
      "\n",
      "72680\t77940\t和你愛一切的你在一起\n",
      "\n",
      "78060\t83640\t這種氣味似乎不留在你的胸部\n",
      "\n",
      "84080\t93860\t我無法更改它，直到雨水停止，您仍然有我的光\n",
      "\n",
      "105570\t110740\t在黑暗中追踪你的背\n",
      "\n",
      "111040\t116460\t我清楚地記得大綱\n",
      "\n",
      "116780\t122020\t每次我遇到我無法接受的東西\n",
      "\n",
      "122240\t124860\t我忍不住溢出\n",
      "\n",
      "124980\t127460\t現在只有眼淚\n",
      "\n",
      "127580\t131040\t你在做什麼？\n",
      "\n",
      "131240\t133700\t你在看什麼？\n",
      "\n",
      "134040\t138600\t我不知道的個人資料\n",
      "\n",
      "138840\t141460\t你現在\n",
      "\n",
      "141600\t144360\t與我相似\n",
      "\n",
      "144400\t149300\t如果你處於眼淚的孤獨狀態\n",
      "\n",
      "149800\t154440\t請忘記我，等等。\n",
      "\n",
      "155440\t160520\t我真誠地希望\n",
      "\n",
      "160780\t165560\t你還有我的光\n",
      "\n",
      "168150\t179900\t對戀愛的人比你想像的\n",
      "\n",
      "180260\t190740\t我不能那樣呼吸\n",
      "\n",
      "190940\t196580\t我在附近\n",
      "\n",
      "197720\t200640\t就像謊言\n",
      "\n",
      "202360\t206840\t我不能忘記\n",
      "\n",
      "207560\t213780\t這是真的\n",
      "\n",
      "218120\t221540\t甚至那天的悲傷\n",
      "\n",
      "221660\t224260\t甚至那天的痛苦\n",
      "\n",
      "224420\t229640\t和你愛一切的你在一起\n",
      "\n",
      "229860\t235540\t不留在胸部的苦檸檬的氣味\n",
      "\n",
      "235540\t240240\t我不能更改它，直到下雨\n",
      "\n",
      "240740\t246080\t像切割水果之一\n",
      "\n",
      "246440\t250880\t你還有我的光\n",
      "\n"
     ]
    },
    {
     "data": {
      "text/plain": [
       "('audio_ja_2_zh-TW.tsv', 'w')"
      ]
     },
     "execution_count": 5,
     "metadata": {},
     "output_type": "execute_result"
    }
   ],
   "source": [
    "import time\n",
    "from googletrans import Translator\n",
    "\n",
    "# 創建一個 Translator 物件\n",
    "translator = Translator()\n",
    "\n",
    "def trans_tsv(filename : str , src : str , dest : str):\n",
    "    with open(filename,\"r\") as f:\n",
    "        lines = f.readlines()\n",
    "    \n",
    "    with open(filename[:-4] + \"_\" + src + \"_2_\" + dest + \".tsv\",\"w\") as f:\n",
    "        for line in lines:\n",
    "            if len(line.strip().split()) != 0:\n",
    "                new_line = line.strip().split()[0] + \"\\t\" + line.strip().split()[1] + \"\\t\" + translator.translate(\"\".join(line.strip().split()[2:]), src=src, dest=dest).text + \"\\n\"\n",
    "                f.write(new_line)\n",
    "                print(new_line)\n",
    "                # time.sleep(3)\n",
    "            else:\n",
    "                f.write(\"\\n\")\n",
    "\n",
    "    return filename[:-4] + \"_\" + src + \"_2_\" + dest + \".tsv\",\"w\"\n",
    "\n",
    "\n",
    "trans_tsv(\"audio.tsv\", \"ja\" , \"zh-TW\")"
   ]
  },
  {
   "cell_type": "code",
   "execution_count": 6,
   "metadata": {},
   "outputs": [
    {
     "name": "stdout",
     "output_type": "stream",
     "text": [
      "Moviepy - Building video C:\\Users\\quant\\Desktop\\whisper\\output_with_subtitles.mp4.\n",
      "MoviePy - Writing audio in output_with_subtitlesTEMP_MPY_wvf_snd.mp3\n"
     ]
    },
    {
     "name": "stderr",
     "output_type": "stream",
     "text": [
      "                                                                      \r"
     ]
    },
    {
     "name": "stdout",
     "output_type": "stream",
     "text": [
      "MoviePy - Done.\n",
      "Moviepy - Writing video C:\\Users\\quant\\Desktop\\whisper\\output_with_subtitles.mp4\n",
      "\n"
     ]
    },
    {
     "name": "stderr",
     "output_type": "stream",
     "text": [
      "                                                                \r"
     ]
    },
    {
     "name": "stdout",
     "output_type": "stream",
     "text": [
      "Moviepy - Done !\n",
      "Moviepy - video ready C:\\Users\\quant\\Desktop\\whisper\\output_with_subtitles.mp4\n"
     ]
    }
   ],
   "source": [
    "video_path = r\"C:\\Users\\quant\\Desktop\\whisper\\lemon.mp4\"\n",
    "tsv_path = r\"C:\\Users\\quant\\Desktop\\whisper\\audio_ja_2_zh-TW.tsv\"\n",
    "output_path = r\"C:\\Users\\quant\\Desktop\\whisper\\output_with_subtitles.mp4\"\n",
    "\n",
    "add_subtitles_to_video(video_path, tsv_path, output_path)"
   ]
  }
 ],
 "metadata": {
  "kernelspec": {
   "display_name": "whisper",
   "language": "python",
   "name": "python3"
  },
  "language_info": {
   "codemirror_mode": {
    "name": "ipython",
    "version": 3
   },
   "file_extension": ".py",
   "mimetype": "text/x-python",
   "name": "python",
   "nbconvert_exporter": "python",
   "pygments_lexer": "ipython3",
   "version": "3.12.7"
  }
 },
 "nbformat": 4,
 "nbformat_minor": 2
}
